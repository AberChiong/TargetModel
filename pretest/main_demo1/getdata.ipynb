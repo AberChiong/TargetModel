{
 "cells": [
  {
   "cell_type": "code",
   "execution_count": 1,
   "metadata": {},
   "outputs": [],
   "source": [
    "import os\n",
    "import numpy as np\n",
    "import h5py\n",
    "import torch\n",
    "from torch.utils.data import TensorDataset, DataLoader\n",
    "from scipy.ndimage import rotate"
   ]
  },
  {
   "cell_type": "code",
   "execution_count": 2,
   "metadata": {},
   "outputs": [],
   "source": [
    "path_dir = '../data/'\n",
    "from_name = 'pretest1.h5'\n",
    "file_path = os.path.join(path_dir, from_name)\n",
    "dataset = 'test'\n",
    "with h5py.File(file_path, 'r') as f:\n",
    "    dataxp = f[dataset+'_xp'][:]\n",
    "    dataxl = f[dataset+'_xl'][:]\n",
    "    datay = f[dataset+'_y'][:]\n",
    "    f.close()"
   ]
  },
  {
   "cell_type": "code",
   "execution_count": 3,
   "metadata": {},
   "outputs": [],
   "source": [
    "xp = torch.from_numpy(dataxp)\n",
    "xl = torch.from_numpy(dataxl)\n",
    "y = torch.from_numpy(datay)"
   ]
  },
  {
   "cell_type": "code",
   "execution_count": 5,
   "metadata": {},
   "outputs": [],
   "source": [
    "dataset = TensorDataset(xp, xl, y)\n",
    "dataloader = DataLoader(dataset, batch_size=128, shuffle=True)"
   ]
  }
 ],
 "metadata": {
  "kernelspec": {
   "display_name": "base",
   "language": "python",
   "name": "python3"
  },
  "language_info": {
   "codemirror_mode": {
    "name": "ipython",
    "version": 3
   },
   "file_extension": ".py",
   "mimetype": "text/x-python",
   "name": "python",
   "nbconvert_exporter": "python",
   "pygments_lexer": "ipython3",
   "version": "3.10.10"
  },
  "orig_nbformat": 4
 },
 "nbformat": 4,
 "nbformat_minor": 2
}
